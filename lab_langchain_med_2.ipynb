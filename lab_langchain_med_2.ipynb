{
  "cells": [
    {
      "cell_type": "markdown",
      "metadata": {
        "id": "view-in-github",
        "colab_type": "text"
      },
      "source": [
        "<a href=\"https://colab.research.google.com/github/DrNOFX97/IronHack-AI-Engineering-Bootcamp/blob/main/lab_langchain_med_2.ipynb\" target=\"_parent\"><img src=\"https://colab.research.google.com/assets/colab-badge.svg\" alt=\"Open In Colab\"/></a>"
      ]
    },
    {
      "cell_type": "markdown",
      "id": "40261e9b-c536-41bc-8a0a-b7d7c6aa0baa",
      "metadata": {
        "id": "40261e9b-c536-41bc-8a0a-b7d7c6aa0baa"
      },
      "source": [
        "# Lab | LangChain Med\n",
        "\n",
        "## Objectives\n",
        "\n",
        "- continue on with lesson 2' example, use different datasets to test what we did in class. Some datasets are suggested in the notebook but feel free to scout other datasets on HuggingFace or Kaggle.\n",
        "- Find another model on Hugging Face and compare it.\n",
        "- Modify the prompt to fit your selected dataset."
      ]
    },
    {
      "cell_type": "code",
      "execution_count": 22,
      "id": "39ce0d3f",
      "metadata": {
        "papermill": {
          "duration": 0.028165,
          "end_time": "2024-02-21T15:58:20.016814",
          "exception": false,
          "start_time": "2024-02-21T15:58:19.988649",
          "status": "completed"
        },
        "tags": [],
        "id": "39ce0d3f"
      },
      "outputs": [],
      "source": [
        "import numpy as np\n",
        "import pandas as pd"
      ]
    },
    {
      "cell_type": "markdown",
      "id": "57dad70f",
      "metadata": {
        "papermill": {
          "duration": 0.016026,
          "end_time": "2024-02-21T15:58:20.049214",
          "exception": false,
          "start_time": "2024-02-21T15:58:20.033188",
          "status": "completed"
        },
        "tags": [],
        "id": "57dad70f"
      },
      "source": [
        "## Load the Dataset\n",
        "As you can see the notebook is ready to work with three different Datasets. Just uncomment the lines of the Dataset you want to use.\n",
        "\n",
        "I selected Datasets with News. Two of them have just a brief decription of the news, but the other contains the full text.\n",
        "\n",
        "As we are working in a free and limited space, I limited the number of news to use with the variable MAX_NEWS. Feel free to pull more if you have memory available.\n",
        "\n",
        "The name of the field containing the text of the new is stored in the variable *DOCUMENT* and the metadata in *TOPIC*"
      ]
    },
    {
      "cell_type": "code",
      "execution_count": 23,
      "id": "e70a47e0",
      "metadata": {
        "papermill": {
          "duration": 1.170763,
          "end_time": "2024-02-21T15:58:21.235862",
          "exception": false,
          "start_time": "2024-02-21T15:58:20.065099",
          "status": "completed"
        },
        "tags": [],
        "id": "e70a47e0"
      },
      "outputs": [],
      "source": [
        "#news = pd.read_csv('labelled_newscatcher_dataset.csv', sep=';')\n",
        "#MAX_NEWS = 1000\n",
        "#DOCUMENT=\"title\"\n",
        "#TOPIC=\"topic\"\n",
        "\n",
        "news = pd.read_csv('bbc_news.csv')\n",
        "MAX_NEWS = 1000\n",
        "DOCUMENT=\"description\"\n",
        "TOPIC=\"title\"\n",
        "\n",
        "#news = pd.read_csv('articles.csv')\n",
        "#MAX_NEWS = 100\n",
        "#DOCUMENT=\"Article Body\"\n",
        "#TOPIC=\"Article Header\"\n",
        "\n",
        "#news = \"PICK A DATASET\" #Ideally pick one from the commented ones above"
      ]
    },
    {
      "cell_type": "markdown",
      "id": "aeb276f4",
      "metadata": {
        "papermill": {
          "duration": 0.016461,
          "end_time": "2024-02-21T15:58:21.268282",
          "exception": false,
          "start_time": "2024-02-21T15:58:21.251821",
          "status": "completed"
        },
        "tags": [],
        "id": "aeb276f4"
      },
      "source": [
        "ChromaDB requires that the data has a unique identifier. We can make it with this statement, which will create a new column called **Id**.\n"
      ]
    },
    {
      "cell_type": "code",
      "execution_count": 24,
      "id": "61c151df",
      "metadata": {
        "papermill": {
          "duration": 0.054847,
          "end_time": "2024-02-21T15:58:21.339906",
          "exception": false,
          "start_time": "2024-02-21T15:58:21.285059",
          "status": "completed"
        },
        "tags": [],
        "colab": {
          "base_uri": "https://localhost:8080/",
          "height": 362
        },
        "id": "61c151df",
        "outputId": "e683fc86-d93b-4e59-88ed-38b9fc96cbac"
      },
      "outputs": [
        {
          "output_type": "execute_result",
          "data": {
            "text/plain": [
              "                                               title  \\\n",
              "0  Ukraine: Angry Zelensky vows to punish Russian...   \n",
              "1  War in Ukraine: Taking cover in a town under a...   \n",
              "2         Ukraine war 'catastrophic for global food'   \n",
              "3  Manchester Arena bombing: Saffie Roussos's par...   \n",
              "4  Ukraine conflict: Oil price soars to highest l...   \n",
              "\n",
              "                         pubDate  \\\n",
              "0  Mon, 07 Mar 2022 08:01:56 GMT   \n",
              "1  Sun, 06 Mar 2022 22:49:58 GMT   \n",
              "2  Mon, 07 Mar 2022 00:14:42 GMT   \n",
              "3  Mon, 07 Mar 2022 00:05:40 GMT   \n",
              "4  Mon, 07 Mar 2022 08:15:53 GMT   \n",
              "\n",
              "                                               guid  \\\n",
              "0  https://www.bbc.co.uk/news/world-europe-60638042   \n",
              "1  https://www.bbc.co.uk/news/world-europe-60641873   \n",
              "2      https://www.bbc.co.uk/news/business-60623941   \n",
              "3            https://www.bbc.co.uk/news/uk-60579079   \n",
              "4      https://www.bbc.co.uk/news/business-60642786   \n",
              "\n",
              "                                                link  \\\n",
              "0  https://www.bbc.co.uk/news/world-europe-606380...   \n",
              "1  https://www.bbc.co.uk/news/world-europe-606418...   \n",
              "2  https://www.bbc.co.uk/news/business-60623941?a...   \n",
              "3  https://www.bbc.co.uk/news/uk-60579079?at_medi...   \n",
              "4  https://www.bbc.co.uk/news/business-60642786?a...   \n",
              "\n",
              "                                         description  id  \n",
              "0  The Ukrainian president says the country will ...   0  \n",
              "1  Jeremy Bowen was on the frontline in Irpin, as...   1  \n",
              "2  One of the world's biggest fertiliser firms sa...   2  \n",
              "3  The parents of the Manchester Arena bombing's ...   3  \n",
              "4  Consumers are feeling the impact of higher ene...   4  "
            ],
            "text/html": [
              "\n",
              "  <div id=\"df-c606e862-c8ff-4d7a-a700-3511c72e90a3\" class=\"colab-df-container\">\n",
              "    <div>\n",
              "<style scoped>\n",
              "    .dataframe tbody tr th:only-of-type {\n",
              "        vertical-align: middle;\n",
              "    }\n",
              "\n",
              "    .dataframe tbody tr th {\n",
              "        vertical-align: top;\n",
              "    }\n",
              "\n",
              "    .dataframe thead th {\n",
              "        text-align: right;\n",
              "    }\n",
              "</style>\n",
              "<table border=\"1\" class=\"dataframe\">\n",
              "  <thead>\n",
              "    <tr style=\"text-align: right;\">\n",
              "      <th></th>\n",
              "      <th>title</th>\n",
              "      <th>pubDate</th>\n",
              "      <th>guid</th>\n",
              "      <th>link</th>\n",
              "      <th>description</th>\n",
              "      <th>id</th>\n",
              "    </tr>\n",
              "  </thead>\n",
              "  <tbody>\n",
              "    <tr>\n",
              "      <th>0</th>\n",
              "      <td>Ukraine: Angry Zelensky vows to punish Russian...</td>\n",
              "      <td>Mon, 07 Mar 2022 08:01:56 GMT</td>\n",
              "      <td>https://www.bbc.co.uk/news/world-europe-60638042</td>\n",
              "      <td>https://www.bbc.co.uk/news/world-europe-606380...</td>\n",
              "      <td>The Ukrainian president says the country will ...</td>\n",
              "      <td>0</td>\n",
              "    </tr>\n",
              "    <tr>\n",
              "      <th>1</th>\n",
              "      <td>War in Ukraine: Taking cover in a town under a...</td>\n",
              "      <td>Sun, 06 Mar 2022 22:49:58 GMT</td>\n",
              "      <td>https://www.bbc.co.uk/news/world-europe-60641873</td>\n",
              "      <td>https://www.bbc.co.uk/news/world-europe-606418...</td>\n",
              "      <td>Jeremy Bowen was on the frontline in Irpin, as...</td>\n",
              "      <td>1</td>\n",
              "    </tr>\n",
              "    <tr>\n",
              "      <th>2</th>\n",
              "      <td>Ukraine war 'catastrophic for global food'</td>\n",
              "      <td>Mon, 07 Mar 2022 00:14:42 GMT</td>\n",
              "      <td>https://www.bbc.co.uk/news/business-60623941</td>\n",
              "      <td>https://www.bbc.co.uk/news/business-60623941?a...</td>\n",
              "      <td>One of the world's biggest fertiliser firms sa...</td>\n",
              "      <td>2</td>\n",
              "    </tr>\n",
              "    <tr>\n",
              "      <th>3</th>\n",
              "      <td>Manchester Arena bombing: Saffie Roussos's par...</td>\n",
              "      <td>Mon, 07 Mar 2022 00:05:40 GMT</td>\n",
              "      <td>https://www.bbc.co.uk/news/uk-60579079</td>\n",
              "      <td>https://www.bbc.co.uk/news/uk-60579079?at_medi...</td>\n",
              "      <td>The parents of the Manchester Arena bombing's ...</td>\n",
              "      <td>3</td>\n",
              "    </tr>\n",
              "    <tr>\n",
              "      <th>4</th>\n",
              "      <td>Ukraine conflict: Oil price soars to highest l...</td>\n",
              "      <td>Mon, 07 Mar 2022 08:15:53 GMT</td>\n",
              "      <td>https://www.bbc.co.uk/news/business-60642786</td>\n",
              "      <td>https://www.bbc.co.uk/news/business-60642786?a...</td>\n",
              "      <td>Consumers are feeling the impact of higher ene...</td>\n",
              "      <td>4</td>\n",
              "    </tr>\n",
              "  </tbody>\n",
              "</table>\n",
              "</div>\n",
              "    <div class=\"colab-df-buttons\">\n",
              "\n",
              "  <div class=\"colab-df-container\">\n",
              "    <button class=\"colab-df-convert\" onclick=\"convertToInteractive('df-c606e862-c8ff-4d7a-a700-3511c72e90a3')\"\n",
              "            title=\"Convert this dataframe to an interactive table.\"\n",
              "            style=\"display:none;\">\n",
              "\n",
              "  <svg xmlns=\"http://www.w3.org/2000/svg\" height=\"24px\" viewBox=\"0 -960 960 960\">\n",
              "    <path d=\"M120-120v-720h720v720H120Zm60-500h600v-160H180v160Zm220 220h160v-160H400v160Zm0 220h160v-160H400v160ZM180-400h160v-160H180v160Zm440 0h160v-160H620v160ZM180-180h160v-160H180v160Zm440 0h160v-160H620v160Z\"/>\n",
              "  </svg>\n",
              "    </button>\n",
              "\n",
              "  <style>\n",
              "    .colab-df-container {\n",
              "      display:flex;\n",
              "      gap: 12px;\n",
              "    }\n",
              "\n",
              "    .colab-df-convert {\n",
              "      background-color: #E8F0FE;\n",
              "      border: none;\n",
              "      border-radius: 50%;\n",
              "      cursor: pointer;\n",
              "      display: none;\n",
              "      fill: #1967D2;\n",
              "      height: 32px;\n",
              "      padding: 0 0 0 0;\n",
              "      width: 32px;\n",
              "    }\n",
              "\n",
              "    .colab-df-convert:hover {\n",
              "      background-color: #E2EBFA;\n",
              "      box-shadow: 0px 1px 2px rgba(60, 64, 67, 0.3), 0px 1px 3px 1px rgba(60, 64, 67, 0.15);\n",
              "      fill: #174EA6;\n",
              "    }\n",
              "\n",
              "    .colab-df-buttons div {\n",
              "      margin-bottom: 4px;\n",
              "    }\n",
              "\n",
              "    [theme=dark] .colab-df-convert {\n",
              "      background-color: #3B4455;\n",
              "      fill: #D2E3FC;\n",
              "    }\n",
              "\n",
              "    [theme=dark] .colab-df-convert:hover {\n",
              "      background-color: #434B5C;\n",
              "      box-shadow: 0px 1px 3px 1px rgba(0, 0, 0, 0.15);\n",
              "      filter: drop-shadow(0px 1px 2px rgba(0, 0, 0, 0.3));\n",
              "      fill: #FFFFFF;\n",
              "    }\n",
              "  </style>\n",
              "\n",
              "    <script>\n",
              "      const buttonEl =\n",
              "        document.querySelector('#df-c606e862-c8ff-4d7a-a700-3511c72e90a3 button.colab-df-convert');\n",
              "      buttonEl.style.display =\n",
              "        google.colab.kernel.accessAllowed ? 'block' : 'none';\n",
              "\n",
              "      async function convertToInteractive(key) {\n",
              "        const element = document.querySelector('#df-c606e862-c8ff-4d7a-a700-3511c72e90a3');\n",
              "        const dataTable =\n",
              "          await google.colab.kernel.invokeFunction('convertToInteractive',\n",
              "                                                    [key], {});\n",
              "        if (!dataTable) return;\n",
              "\n",
              "        const docLinkHtml = 'Like what you see? Visit the ' +\n",
              "          '<a target=\"_blank\" href=https://colab.research.google.com/notebooks/data_table.ipynb>data table notebook</a>'\n",
              "          + ' to learn more about interactive tables.';\n",
              "        element.innerHTML = '';\n",
              "        dataTable['output_type'] = 'display_data';\n",
              "        await google.colab.output.renderOutput(dataTable, element);\n",
              "        const docLink = document.createElement('div');\n",
              "        docLink.innerHTML = docLinkHtml;\n",
              "        element.appendChild(docLink);\n",
              "      }\n",
              "    </script>\n",
              "  </div>\n",
              "\n",
              "\n",
              "<div id=\"df-17a91730-4417-4000-9c6c-ddd36cc00d3e\">\n",
              "  <button class=\"colab-df-quickchart\" onclick=\"quickchart('df-17a91730-4417-4000-9c6c-ddd36cc00d3e')\"\n",
              "            title=\"Suggest charts\"\n",
              "            style=\"display:none;\">\n",
              "\n",
              "<svg xmlns=\"http://www.w3.org/2000/svg\" height=\"24px\"viewBox=\"0 0 24 24\"\n",
              "     width=\"24px\">\n",
              "    <g>\n",
              "        <path d=\"M19 3H5c-1.1 0-2 .9-2 2v14c0 1.1.9 2 2 2h14c1.1 0 2-.9 2-2V5c0-1.1-.9-2-2-2zM9 17H7v-7h2v7zm4 0h-2V7h2v10zm4 0h-2v-4h2v4z\"/>\n",
              "    </g>\n",
              "</svg>\n",
              "  </button>\n",
              "\n",
              "<style>\n",
              "  .colab-df-quickchart {\n",
              "      --bg-color: #E8F0FE;\n",
              "      --fill-color: #1967D2;\n",
              "      --hover-bg-color: #E2EBFA;\n",
              "      --hover-fill-color: #174EA6;\n",
              "      --disabled-fill-color: #AAA;\n",
              "      --disabled-bg-color: #DDD;\n",
              "  }\n",
              "\n",
              "  [theme=dark] .colab-df-quickchart {\n",
              "      --bg-color: #3B4455;\n",
              "      --fill-color: #D2E3FC;\n",
              "      --hover-bg-color: #434B5C;\n",
              "      --hover-fill-color: #FFFFFF;\n",
              "      --disabled-bg-color: #3B4455;\n",
              "      --disabled-fill-color: #666;\n",
              "  }\n",
              "\n",
              "  .colab-df-quickchart {\n",
              "    background-color: var(--bg-color);\n",
              "    border: none;\n",
              "    border-radius: 50%;\n",
              "    cursor: pointer;\n",
              "    display: none;\n",
              "    fill: var(--fill-color);\n",
              "    height: 32px;\n",
              "    padding: 0;\n",
              "    width: 32px;\n",
              "  }\n",
              "\n",
              "  .colab-df-quickchart:hover {\n",
              "    background-color: var(--hover-bg-color);\n",
              "    box-shadow: 0 1px 2px rgba(60, 64, 67, 0.3), 0 1px 3px 1px rgba(60, 64, 67, 0.15);\n",
              "    fill: var(--button-hover-fill-color);\n",
              "  }\n",
              "\n",
              "  .colab-df-quickchart-complete:disabled,\n",
              "  .colab-df-quickchart-complete:disabled:hover {\n",
              "    background-color: var(--disabled-bg-color);\n",
              "    fill: var(--disabled-fill-color);\n",
              "    box-shadow: none;\n",
              "  }\n",
              "\n",
              "  .colab-df-spinner {\n",
              "    border: 2px solid var(--fill-color);\n",
              "    border-color: transparent;\n",
              "    border-bottom-color: var(--fill-color);\n",
              "    animation:\n",
              "      spin 1s steps(1) infinite;\n",
              "  }\n",
              "\n",
              "  @keyframes spin {\n",
              "    0% {\n",
              "      border-color: transparent;\n",
              "      border-bottom-color: var(--fill-color);\n",
              "      border-left-color: var(--fill-color);\n",
              "    }\n",
              "    20% {\n",
              "      border-color: transparent;\n",
              "      border-left-color: var(--fill-color);\n",
              "      border-top-color: var(--fill-color);\n",
              "    }\n",
              "    30% {\n",
              "      border-color: transparent;\n",
              "      border-left-color: var(--fill-color);\n",
              "      border-top-color: var(--fill-color);\n",
              "      border-right-color: var(--fill-color);\n",
              "    }\n",
              "    40% {\n",
              "      border-color: transparent;\n",
              "      border-right-color: var(--fill-color);\n",
              "      border-top-color: var(--fill-color);\n",
              "    }\n",
              "    60% {\n",
              "      border-color: transparent;\n",
              "      border-right-color: var(--fill-color);\n",
              "    }\n",
              "    80% {\n",
              "      border-color: transparent;\n",
              "      border-right-color: var(--fill-color);\n",
              "      border-bottom-color: var(--fill-color);\n",
              "    }\n",
              "    90% {\n",
              "      border-color: transparent;\n",
              "      border-bottom-color: var(--fill-color);\n",
              "    }\n",
              "  }\n",
              "</style>\n",
              "\n",
              "  <script>\n",
              "    async function quickchart(key) {\n",
              "      const quickchartButtonEl =\n",
              "        document.querySelector('#' + key + ' button');\n",
              "      quickchartButtonEl.disabled = true;  // To prevent multiple clicks.\n",
              "      quickchartButtonEl.classList.add('colab-df-spinner');\n",
              "      try {\n",
              "        const charts = await google.colab.kernel.invokeFunction(\n",
              "            'suggestCharts', [key], {});\n",
              "      } catch (error) {\n",
              "        console.error('Error during call to suggestCharts:', error);\n",
              "      }\n",
              "      quickchartButtonEl.classList.remove('colab-df-spinner');\n",
              "      quickchartButtonEl.classList.add('colab-df-quickchart-complete');\n",
              "    }\n",
              "    (() => {\n",
              "      let quickchartButtonEl =\n",
              "        document.querySelector('#df-17a91730-4417-4000-9c6c-ddd36cc00d3e button');\n",
              "      quickchartButtonEl.style.display =\n",
              "        google.colab.kernel.accessAllowed ? 'block' : 'none';\n",
              "    })();\n",
              "  </script>\n",
              "</div>\n",
              "\n",
              "    </div>\n",
              "  </div>\n"
            ],
            "application/vnd.google.colaboratory.intrinsic+json": {
              "type": "dataframe",
              "variable_name": "news",
              "summary": "{\n  \"name\": \"news\",\n  \"rows\": 35899,\n  \"fields\": [\n    {\n      \"column\": \"title\",\n      \"properties\": {\n        \"dtype\": \"string\",\n        \"num_unique_values\": 33927,\n        \"samples\": [\n          \"Big firm bosses' pay rose 16% as workers squeezed\",\n          \"Assaulting shop staff to be specific criminal offence\",\n          \"Peru protests: Machu Picchu closed indefinitely and tourists stranded\"\n        ],\n        \"semantic_type\": \"\",\n        \"description\": \"\"\n      }\n    },\n    {\n      \"column\": \"pubDate\",\n      \"properties\": {\n        \"dtype\": \"object\",\n        \"num_unique_values\": 34508,\n        \"samples\": [\n          \"Tue, 21 Jun 2022 20:12:54 GMT\",\n          \"Thu, 04 Apr 2024 12:42:16 GMT\",\n          \"Thu, 09 Nov 2023 18:35:54 GMT\"\n        ],\n        \"semantic_type\": \"\",\n        \"description\": \"\"\n      }\n    },\n    {\n      \"column\": \"guid\",\n      \"properties\": {\n        \"dtype\": \"string\",\n        \"num_unique_values\": 33120,\n        \"samples\": [\n          \"https://www.bbc.co.uk/news/entertainment-arts-68530505#0\",\n          \"https://www.bbc.co.uk/sounds/play/p0hkg3zw#4\",\n          \"https://www.bbc.co.uk/sport/football/68150449\"\n        ],\n        \"semantic_type\": \"\",\n        \"description\": \"\"\n      }\n    },\n    {\n      \"column\": \"link\",\n      \"properties\": {\n        \"dtype\": \"string\",\n        \"num_unique_values\": 32371,\n        \"samples\": [\n          \"https://www.bbc.co.uk/news/world-latin-america-64507085?at_medium=RSS&at_campaign=KARANGA\",\n          \"https://www.bbc.co.uk/sport/boxing/62889509?at_medium=RSS&at_campaign=KARANGA\",\n          \"https://www.bbc.co.uk/news/uk-england-lancashire-68707225\"\n        ],\n        \"semantic_type\": \"\",\n        \"description\": \"\"\n      }\n    },\n    {\n      \"column\": \"description\",\n      \"properties\": {\n        \"dtype\": \"string\",\n        \"num_unique_values\": 33161,\n        \"samples\": [\n          \"Ukraine rejects accusations from the region's Moscow-installed leader that it was responsible.\",\n          \"Featherweight Connor Coghill is in hospital after a bleed on his brain was discovered in the wake of the Briton's defeat by Hopey Price in Sheffield on 7 October.\",\n          \"Pep Guardiola is described as \\\"the difference maker\\\" after leading Manchester City to a third successive Premier League title - but is this his best team yet?\"\n        ],\n        \"semantic_type\": \"\",\n        \"description\": \"\"\n      }\n    },\n    {\n      \"column\": \"id\",\n      \"properties\": {\n        \"dtype\": \"number\",\n        \"std\": 10363,\n        \"min\": 0,\n        \"max\": 35898,\n        \"num_unique_values\": 35899,\n        \"samples\": [\n          35213,\n          32609,\n          31648\n        ],\n        \"semantic_type\": \"\",\n        \"description\": \"\"\n      }\n    }\n  ]\n}"
            }
          },
          "metadata": {},
          "execution_count": 24
        }
      ],
      "source": [
        "news[\"id\"] = news.index\n",
        "news.head()"
      ]
    },
    {
      "cell_type": "code",
      "execution_count": 25,
      "id": "1849922b",
      "metadata": {
        "papermill": {
          "duration": 0.027701,
          "end_time": "2024-02-21T15:58:21.383814",
          "exception": false,
          "start_time": "2024-02-21T15:58:21.356113",
          "status": "completed"
        },
        "tags": [],
        "id": "1849922b"
      },
      "outputs": [],
      "source": [
        "#Because it is just a course we select a small portion of News.\n",
        "subset_news = news.head(MAX_NEWS)"
      ]
    },
    {
      "cell_type": "markdown",
      "id": "893babc1",
      "metadata": {
        "papermill": {
          "duration": 0.015939,
          "end_time": "2024-02-21T15:58:21.416088",
          "exception": false,
          "start_time": "2024-02-21T15:58:21.400149",
          "status": "completed"
        },
        "tags": [],
        "id": "893babc1"
      },
      "source": [
        "## Import and configure the Vector Database\n",
        "I'm going to use ChromaDB, the most popular OpenSource embedding Database.\n",
        "\n",
        "First we need to import ChromaDB, and after that import the **Settings** class from **chromadb.config** module. This class allows us to change the setting for the ChromaDB system, and customize its behavior."
      ]
    },
    {
      "cell_type": "code",
      "execution_count": 26,
      "id": "82db86aa",
      "metadata": {
        "papermill": {
          "duration": 1.095805,
          "end_time": "2024-02-21T15:58:22.528102",
          "exception": false,
          "start_time": "2024-02-21T15:58:21.432297",
          "status": "completed"
        },
        "tags": [],
        "id": "82db86aa"
      },
      "outputs": [],
      "source": [
        "import chromadb\n",
        "from chromadb.config import Settings"
      ]
    },
    {
      "cell_type": "markdown",
      "id": "051bc3a1",
      "metadata": {
        "papermill": {
          "duration": 0.015938,
          "end_time": "2024-02-21T15:58:22.560953",
          "exception": false,
          "start_time": "2024-02-21T15:58:22.545015",
          "status": "completed"
        },
        "tags": [],
        "id": "051bc3a1"
      },
      "source": [
        "Now we need to create the seetings object calling the **Settings** function imported previously. We store the object in the variable **settings_chroma**.\n",
        "\n",
        "Is necessary to inform two parameters\n",
        "* chroma_db_impl. Here we specify the database implementation and the format how store the data. I choose ***duckdb***, because his high-performace. It operate primarly in memory. And is fully compatible with SQL. The store format ***parquet*** is good for tabular data. With good compression rates and performance.\n",
        "\n",
        "* persist_directory: It just contains the directory where the data will be stored. Is possible work without a directory and the data will be stored in memory without persistece, but Kaggle dosn't support that."
      ]
    },
    {
      "cell_type": "code",
      "execution_count": 27,
      "id": "b21a77ff",
      "metadata": {
        "papermill": {
          "duration": 0.640745,
          "end_time": "2024-02-21T15:58:23.217828",
          "exception": false,
          "start_time": "2024-02-21T15:58:22.577083",
          "status": "completed"
        },
        "tags": [],
        "id": "b21a77ff"
      },
      "outputs": [],
      "source": [
        "chroma_client = chromadb.PersistentClient(path=\"/Users/f.nuno/IronHack/Lab/Week7\")"
      ]
    },
    {
      "cell_type": "markdown",
      "id": "b5176774",
      "metadata": {
        "papermill": {
          "duration": 0.016853,
          "end_time": "2024-02-21T15:58:23.252446",
          "exception": false,
          "start_time": "2024-02-21T15:58:23.235593",
          "status": "completed"
        },
        "tags": [],
        "id": "b5176774"
      },
      "source": [
        "## Filling and Querying the ChromaDB Database\n",
        "The Data in ChromaDB is stored in collections. If the collection exist we need to delete it.\n",
        "\n",
        "In the next lines, we are creating the collection by calling the ***create_collection*** function in the ***chroma_client*** created above."
      ]
    },
    {
      "cell_type": "code",
      "execution_count": 28,
      "id": "a0cc5748",
      "metadata": {
        "papermill": {
          "duration": 0.090234,
          "end_time": "2024-02-21T15:58:23.358887",
          "exception": false,
          "start_time": "2024-02-21T15:58:23.268653",
          "status": "completed"
        },
        "tags": [],
        "id": "a0cc5748"
      },
      "outputs": [],
      "source": [
        "collection_name = \"news_collection\"\n",
        "if len(chroma_client.list_collections()) > 0 and collection_name in [chroma_client.list_collections()[0].name]:\n",
        "        chroma_client.delete_collection(name=collection_name)\n",
        "\n",
        "collection = chroma_client.create_collection(name=collection_name)\n",
        ""
      ]
    },
    {
      "cell_type": "markdown",
      "id": "688831d1",
      "metadata": {
        "papermill": {
          "duration": 0.01831,
          "end_time": "2024-02-21T15:58:23.394771",
          "exception": false,
          "start_time": "2024-02-21T15:58:23.376461",
          "status": "completed"
        },
        "tags": [],
        "id": "688831d1"
      },
      "source": [
        "It's time to add the data to the collection. Using the function ***add*** we need to inform, at least ***documents***, ***metadatas*** and ***ids***.\n",
        "* In the **document** we store the big text, it's a different column in each Dataset.\n",
        "* In **metadatas**, we can informa a list of topics.\n",
        "* In **id** we need to inform an unique identificator for each row. It MUST be unique! I'm creating the ID using the range of MAX_NEWS.\n"
      ]
    },
    {
      "cell_type": "code",
      "execution_count": 29,
      "id": "4fb1a28a",
      "metadata": {
        "papermill": {
          "duration": 89.680388,
          "end_time": "2024-02-21T15:59:53.091437",
          "exception": false,
          "start_time": "2024-02-21T15:58:23.411049",
          "status": "completed"
        },
        "tags": [],
        "colab": {
          "base_uri": "https://localhost:8080/"
        },
        "id": "4fb1a28a",
        "outputId": "e62b0dab-b983-46cc-8218-537235863c70"
      },
      "outputs": [
        {
          "output_type": "stream",
          "name": "stderr",
          "text": [
            "Adding documents to collection: 100%|██████████| 1000/1000 [00:32<00:00, 31.21it/s]"
          ]
        },
        {
          "output_type": "stream",
          "name": "stdout",
          "text": [
            "Documents added to collection.\n"
          ]
        },
        {
          "output_type": "stream",
          "name": "stderr",
          "text": [
            "\n"
          ]
        }
      ],
      "source": [
        "from tqdm import tqdm\n",
        "\n",
        "# Example data\n",
        "subset_news_documents = subset_news[DOCUMENT].tolist()\n",
        "subset_news_topics = subset_news[TOPIC].tolist()\n",
        "max_news = MAX_NEWS\n",
        "\n",
        "# Create a tqdm progress bar\n",
        "progress_bar = tqdm(total=max_news, desc=\"Adding documents to collection\")\n",
        "\n",
        "# Iterate over the documents and add them to the collection\n",
        "for idx in range(min(max_news, len(subset_news_documents))):\n",
        "    document = subset_news_documents[idx]\n",
        "    topic = subset_news_topics[idx]\n",
        "    document_id = f\"id{idx}\"\n",
        "\n",
        "    # Add document to collection\n",
        "    collection.add(\n",
        "        documents=[document],\n",
        "        metadatas=[{TOPIC: topic}],\n",
        "        ids=[document_id],\n",
        "    )\n",
        "\n",
        "    # Update progress bar\n",
        "    progress_bar.update(1)\n",
        "\n",
        "# Close the progress bar\n",
        "progress_bar.close()\n",
        "\n",
        "print(\"Documents added to collection.\")"
      ]
    },
    {
      "cell_type": "code",
      "execution_count": 30,
      "id": "ff6a4fcf",
      "metadata": {
        "papermill": {
          "duration": 0.121938,
          "end_time": "2024-02-21T15:59:53.236515",
          "exception": false,
          "start_time": "2024-02-21T15:59:53.114577",
          "status": "completed"
        },
        "tags": [],
        "colab": {
          "base_uri": "https://localhost:8080/"
        },
        "id": "ff6a4fcf",
        "outputId": "f8a5fd6d-a667-4c7d-81bc-f842c435cf3b"
      },
      "outputs": [
        {
          "output_type": "stream",
          "name": "stdout",
          "text": [
            "{'ids': [['id587', 'id862', 'id191', 'id561', 'id295', 'id653', 'id312', 'id622', 'id925', 'id21']], 'distances': [[1.6517921686172485, 1.6726526021957397, 1.679142951965332, 1.7190912961959839, 1.7223870754241943, 1.7251734733581543, 1.7306060791015625, 1.7306060791015625, 1.7306060791015625, 1.7306283712387085]], 'metadatas': [[{'title': 'How a jetpack design helped create a flying motorbike'}, {'title': \"Simon Coveney's visit to Belfast interrupted by security alert\"}, {'title': 'War in Ukraine: President Zelensky posts video from office in Kyiv'}, {'title': 'Child, 13, drove pickup in deadly Texas crash that killed nine'}, {'title': 'Covid infections rising again across UK - ONS'}, {'title': 'UK holds plane with possible Russian ties'}, {'title': 'Week in pictures: 5-11 March 2022'}, {'title': 'Week in pictures: 12 - 18 March 2022'}, {'title': 'Week in pictures: 19 - 25 March 2022'}, {'title': 'War in Ukraine: Russian helicopter shot down by missile'}]], 'embeddings': None, 'documents': [['The developers of a powerful mini aircraft hope it will be used by the armed forces.', 'A van was reportedly hijacked and driven to the venue, and a controlled explosion has since been carried out.', 'The Ukrainian president reveals his location in Kyiv in a new video shared on social media.', 'A 13-year-old was driving a truck that collided with a van carrying student athletes, officials say.', 'A form of Omicron called BA.2 is now the most common variant in most of the UK, figures suggest.', 'The jet is being held at London Biggin Hill airport while it is investigated if it falls under UK sanctions.', 'A selection of powerful images from all over the globe, taken in the past seven days.', 'A selection of powerful images from all over the globe, taken in the past seven days.', 'A selection of powerful images from all over the globe, taken in the past seven days.', 'The video, shared by Ukrainian armed forces, shows the helicopter being hit by a missile.']], 'uris': None, 'data': None, 'included': ['metadatas', 'documents', 'distances']}\n"
          ]
        }
      ],
      "source": [
        "results = collection.query(query_texts=[\"laptop\"], n_results=10 )\n",
        "\n",
        "print(results)\n"
      ]
    },
    {
      "cell_type": "markdown",
      "id": "31fed3db",
      "metadata": {
        "papermill": {
          "duration": 0.02373,
          "end_time": "2024-02-21T15:59:53.281923",
          "exception": false,
          "start_time": "2024-02-21T15:59:53.258193",
          "status": "completed"
        },
        "tags": [],
        "id": "31fed3db"
      },
      "source": [
        "## Vector MAP"
      ]
    },
    {
      "cell_type": "code",
      "execution_count": 31,
      "id": "f5ed54f5",
      "metadata": {
        "papermill": {
          "duration": 1.602967,
          "end_time": "2024-02-21T15:59:54.906788",
          "exception": false,
          "start_time": "2024-02-21T15:59:53.303821",
          "status": "completed"
        },
        "tags": [],
        "id": "f5ed54f5"
      },
      "outputs": [],
      "source": [
        "import matplotlib.pyplot as plt\n",
        "from sklearn.decomposition import PCA"
      ]
    },
    {
      "cell_type": "code",
      "execution_count": 32,
      "id": "da0b01dd",
      "metadata": {
        "papermill": {
          "duration": 0.034729,
          "end_time": "2024-02-21T15:59:54.962541",
          "exception": false,
          "start_time": "2024-02-21T15:59:54.927812",
          "status": "completed"
        },
        "tags": [],
        "id": "da0b01dd"
      },
      "outputs": [],
      "source": [
        "\n",
        "getado = collection.get(ids=\"id141\",\n",
        "                       include=[\"documents\", \"embeddings\"])\n"
      ]
    },
    {
      "cell_type": "code",
      "execution_count": 33,
      "id": "e24e00a5",
      "metadata": {
        "_kg_hide-output": true,
        "papermill": {
          "duration": 0.0397,
          "end_time": "2024-02-21T15:59:55.022025",
          "exception": false,
          "start_time": "2024-02-21T15:59:54.982325",
          "status": "completed"
        },
        "scrolled": true,
        "tags": [],
        "colab": {
          "base_uri": "https://localhost:8080/"
        },
        "id": "e24e00a5",
        "outputId": "34add677-805d-4f30-e800-d3700b1047b0"
      },
      "outputs": [
        {
          "output_type": "execute_result",
          "data": {
            "text/plain": [
              "[[0.08360528200864792,\n",
              "  0.009881743229925632,\n",
              "  -0.06335217505693436,\n",
              "  0.006835514679551125,\n",
              "  0.09836876392364502,\n",
              "  0.06623635441064835,\n",
              "  0.08818849176168442,\n",
              "  0.004320137668401003,\n",
              "  0.046258460730314255,\n",
              "  -0.025371838361024857,\n",
              "  0.030316133052110672,\n",
              "  0.02904367633163929,\n",
              "  0.037352293729782104,\n",
              "  0.017455749213695526,\n",
              "  -0.03087661787867546,\n",
              "  -0.0447610504925251,\n",
              "  -0.007606553845107555,\n",
              "  -0.05808791145682335,\n",
              "  -0.04539887234568596,\n",
              "  -0.06970192492008209,\n",
              "  -0.003506844164803624,\n",
              "  0.04581326246261597,\n",
              "  0.015820123255252838,\n",
              "  0.03446853533387184,\n",
              "  -0.06203140318393707,\n",
              "  0.09383269399404526,\n",
              "  0.0595623217523098,\n",
              "  -0.03075232170522213,\n",
              "  -0.08414644747972488,\n",
              "  -0.025589847937226295,\n",
              "  -0.005449125077575445,\n",
              "  -0.016466127708554268,\n",
              "  -0.10067088156938553,\n",
              "  0.05222402885556221,\n",
              "  -0.006522803101688623,\n",
              "  0.06448018550872803,\n",
              "  0.062198929488658905,\n",
              "  -0.004692091606557369,\n",
              "  -0.03388358652591705,\n",
              "  -0.0005861778045073152,\n",
              "  -0.09118968993425369,\n",
              "  -0.09242996573448181,\n",
              "  -0.043961070477962494,\n",
              "  -0.047133635729551315,\n",
              "  0.0014974557561799884,\n",
              "  -0.009096776135265827,\n",
              "  0.027968963608145714,\n",
              "  -0.10501579940319061,\n",
              "  0.060326240956783295,\n",
              "  0.05919696018099785,\n",
              "  -0.025988604873418808,\n",
              "  0.024539237841963768,\n",
              "  0.06629733741283417,\n",
              "  0.05938839167356491,\n",
              "  0.05759666860103607,\n",
              "  -0.004240352660417557,\n",
              "  -0.04639575257897377,\n",
              "  0.05637703090906143,\n",
              "  0.014217160642147064,\n",
              "  0.020824672654271126,\n",
              "  -0.06757809966802597,\n",
              "  0.06408458203077316,\n",
              "  -0.036920275539159775,\n",
              "  0.019349534064531326,\n",
              "  -0.08585350960493088,\n",
              "  0.02890605479478836,\n",
              "  -0.027792558073997498,\n",
              "  -0.057466160506010056,\n",
              "  0.07883865386247635,\n",
              "  -0.003807498374953866,\n",
              "  0.014927990734577179,\n",
              "  -0.004189088940620422,\n",
              "  -0.0125401197001338,\n",
              "  -0.02146151289343834,\n",
              "  0.031467046588659286,\n",
              "  -0.04488105699419975,\n",
              "  0.05800488591194153,\n",
              "  -0.08296187967061996,\n",
              "  0.0274643711745739,\n",
              "  -0.03636986017227173,\n",
              "  0.003969911020249128,\n",
              "  -0.030256731435656548,\n",
              "  -0.06438259035348892,\n",
              "  0.0203537680208683,\n",
              "  0.0017002061940729618,\n",
              "  0.003662185510620475,\n",
              "  -0.02437683753669262,\n",
              "  -0.021415313705801964,\n",
              "  0.009405404329299927,\n",
              "  0.09379597753286362,\n",
              "  0.050822123885154724,\n",
              "  -0.011399516835808754,\n",
              "  0.031962160021066666,\n",
              "  0.01766769029200077,\n",
              "  0.015400770120322704,\n",
              "  -0.015107229351997375,\n",
              "  -0.020965470001101494,\n",
              "  -0.038861021399497986,\n",
              "  -0.004905829206109047,\n",
              "  0.05564058572053909,\n",
              "  -0.029103051871061325,\n",
              "  0.015434890985488892,\n",
              "  0.06351024657487869,\n",
              "  0.047120723873376846,\n",
              "  -0.07111945003271103,\n",
              "  -0.08911779522895813,\n",
              "  0.05319201573729515,\n",
              "  -0.0369299091398716,\n",
              "  -0.08634087443351746,\n",
              "  -0.021142343059182167,\n",
              "  0.04422616958618164,\n",
              "  -0.02066965401172638,\n",
              "  0.032627835869789124,\n",
              "  0.05912064388394356,\n",
              "  -0.01343449018895626,\n",
              "  -0.05997451767325401,\n",
              "  -0.039354659616947174,\n",
              "  -0.0313672311604023,\n",
              "  -0.04829269275069237,\n",
              "  0.006946194916963577,\n",
              "  0.04121125489473343,\n",
              "  -0.01185594592243433,\n",
              "  -0.01336477417498827,\n",
              "  0.08622729033231735,\n",
              "  -0.07785720378160477,\n",
              "  0.05763564258813858,\n",
              "  0.006186955142766237,\n",
              "  -2.584005661111131e-33,\n",
              "  -0.07110941410064697,\n",
              "  -0.011072964407503605,\n",
              "  0.01140009518712759,\n",
              "  -0.008365758694708347,\n",
              "  0.04916303604841232,\n",
              "  -0.05853832885622978,\n",
              "  0.014162654057145119,\n",
              "  0.008980494923889637,\n",
              "  0.04283943399786949,\n",
              "  0.02335061877965927,\n",
              "  -0.02278987132012844,\n",
              "  -0.07700905948877335,\n",
              "  -0.0013663135468959808,\n",
              "  -0.09579625725746155,\n",
              "  -0.017203109338879585,\n",
              "  0.04074214771389961,\n",
              "  -0.04381938278675079,\n",
              "  -0.031958311796188354,\n",
              "  -0.03280333802103996,\n",
              "  0.06791555881500244,\n",
              "  0.07426109910011292,\n",
              "  0.09845078736543655,\n",
              "  0.06608743965625763,\n",
              "  -0.05592089146375656,\n",
              "  0.020409589633345604,\n",
              "  -0.010710283182561398,\n",
              "  -0.0772685781121254,\n",
              "  -0.02834284119307995,\n",
              "  0.1534990668296814,\n",
              "  0.07011684775352478,\n",
              "  -0.043747033923864365,\n",
              "  -0.01649041846394539,\n",
              "  -0.04987873509526253,\n",
              "  -0.07031534612178802,\n",
              "  -0.0135945500805974,\n",
              "  0.044563792645931244,\n",
              "  -0.10786602646112442,\n",
              "  -0.015851108357310295,\n",
              "  -0.06364943832159042,\n",
              "  0.07147209346294403,\n",
              "  -0.08115501701831818,\n",
              "  -0.048921313136816025,\n",
              "  -0.09642620384693146,\n",
              "  0.03746866434812546,\n",
              "  -0.05674414709210396,\n",
              "  0.05688893795013428,\n",
              "  -0.003546392545104027,\n",
              "  0.002025468507781625,\n",
              "  -0.010544400662183762,\n",
              "  -0.017178157344460487,\n",
              "  0.035758860409259796,\n",
              "  -0.03136543929576874,\n",
              "  -0.1095425933599472,\n",
              "  -0.0726589560508728,\n",
              "  0.06612225621938705,\n",
              "  0.024567153304815292,\n",
              "  -0.025943240150809288,\n",
              "  0.06064659357070923,\n",
              "  0.10876603424549103,\n",
              "  0.05168145149946213,\n",
              "  0.06942004710435867,\n",
              "  -0.02772046998143196,\n",
              "  0.07891733199357986,\n",
              "  -0.04158911108970642,\n",
              "  0.17249053716659546,\n",
              "  -0.08116716146469116,\n",
              "  0.053200822323560715,\n",
              "  0.037465956062078476,\n",
              "  0.007224347908049822,\n",
              "  -0.061340682208538055,\n",
              "  -0.003241033526137471,\n",
              "  0.03814238682389259,\n",
              "  0.04311126098036766,\n",
              "  0.001856870367191732,\n",
              "  0.058926358819007874,\n",
              "  -0.029448697343468666,\n",
              "  -0.058977704495191574,\n",
              "  -0.05163981020450592,\n",
              "  -0.018849875777959824,\n",
              "  0.016234982758760452,\n",
              "  -0.053234223276376724,\n",
              "  0.010969930328428745,\n",
              "  0.0444258451461792,\n",
              "  0.03296615183353424,\n",
              "  0.08789519220590591,\n",
              "  0.007230333983898163,\n",
              "  -0.04442541301250458,\n",
              "  -0.04818393662571907,\n",
              "  -0.09033088386058807,\n",
              "  -0.05271169915795326,\n",
              "  -0.04866029694676399,\n",
              "  0.03545845299959183,\n",
              "  -0.04641073942184448,\n",
              "  -0.03417560085654259,\n",
              "  -0.03325580805540085,\n",
              "  -2.4779987999522596e-34,\n",
              "  0.05275827273726463,\n",
              "  -0.06251347064971924,\n",
              "  0.0022739043924957514,\n",
              "  -0.08124243468046188,\n",
              "  -0.013219167478382587,\n",
              "  0.00731841754168272,\n",
              "  0.06941152364015579,\n",
              "  0.0021048844791948795,\n",
              "  0.0366181954741478,\n",
              "  0.13770616054534912,\n",
              "  -0.07802560925483704,\n",
              "  -0.07266000658273697,\n",
              "  0.005437837913632393,\n",
              "  0.00804380513727665,\n",
              "  0.020007096230983734,\n",
              "  -0.10124251246452332,\n",
              "  0.021735655143857002,\n",
              "  0.07479333877563477,\n",
              "  0.0004128603031858802,\n",
              "  0.09218169748783112,\n",
              "  -0.03559829294681549,\n",
              "  0.05086115747690201,\n",
              "  -0.0003275938215665519,\n",
              "  0.07127722352743149,\n",
              "  0.024693811312317848,\n",
              "  0.012301292270421982,\n",
              "  0.02089550718665123,\n",
              "  0.07973930984735489,\n",
              "  -0.07149520516395569,\n",
              "  -0.03720918297767639,\n",
              "  0.035647086799144745,\n",
              "  -0.0477437749505043,\n",
              "  0.062019724398851395,\n",
              "  -0.033084843307733536,\n",
              "  -0.04802907258272171,\n",
              "  0.06450869888067245,\n",
              "  -0.003339153015986085,\n",
              "  0.04723944887518883,\n",
              "  -0.07065556943416595,\n",
              "  0.0019635874778032303,\n",
              "  0.016502244397997856,\n",
              "  -0.008706090971827507,\n",
              "  -0.03667152673006058,\n",
              "  -0.021450011059641838,\n",
              "  -0.02106127142906189,\n",
              "  0.00832712184637785,\n",
              "  -0.03482813388109207,\n",
              "  0.060032762587070465,\n",
              "  0.05981605872511864,\n",
              "  -0.06555264443159103,\n",
              "  0.09550058096647263,\n",
              "  0.02667401358485222,\n",
              "  -0.027503781020641327,\n",
              "  0.027909649536013603,\n",
              "  0.05596990883350372,\n",
              "  0.0302866343408823,\n",
              "  0.01126503199338913,\n",
              "  -0.061100296676158905,\n",
              "  0.13276612758636475,\n",
              "  -0.053650084882974625,\n",
              "  -0.0985187441110611,\n",
              "  -0.1567954272031784,\n",
              "  0.024144861847162247,\n",
              "  0.003331861924380064,\n",
              "  0.03869671747088432,\n",
              "  -0.054255831986665726,\n",
              "  -0.0018368975725024939,\n",
              "  0.004952586255967617,\n",
              "  0.012614584527909756,\n",
              "  -0.044750358909368515,\n",
              "  -0.007448109798133373,\n",
              "  -0.06554677337408066,\n",
              "  0.02182840183377266,\n",
              "  -0.04382675513625145,\n",
              "  -0.033761654049158096,\n",
              "  -0.021556347608566284,\n",
              "  -0.011049925349652767,\n",
              "  0.08776897192001343,\n",
              "  0.029431177303195,\n",
              "  -0.013255801983177662,\n",
              "  0.051561493426561356,\n",
              "  -0.07192528992891312,\n",
              "  -0.011180122382938862,\n",
              "  -0.018178366124629974,\n",
              "  0.05689216032624245,\n",
              "  -0.023224053904414177,\n",
              "  0.09053386002779007,\n",
              "  -0.026021018624305725,\n",
              "  0.007646308746188879,\n",
              "  -0.03779283165931702,\n",
              "  0.026056600734591484,\n",
              "  -0.0007371992105618119,\n",
              "  0.004823847208172083,\n",
              "  0.0008672124240547419,\n",
              "  -0.013177980668842793,\n",
              "  -2.5594856012389755e-08,\n",
              "  0.002087565138936043,\n",
              "  0.05470187962055206,\n",
              "  -0.06355602294206619,\n",
              "  -0.019940417259931564,\n",
              "  0.03799181804060936,\n",
              "  -0.021175140514969826,\n",
              "  0.0025528003461658955,\n",
              "  -0.01806069351732731,\n",
              "  -0.1033334881067276,\n",
              "  0.06240275502204895,\n",
              "  -0.06764465570449829,\n",
              "  0.03214797377586365,\n",
              "  0.04216358810663223,\n",
              "  0.02280028536915779,\n",
              "  -0.026862291619181633,\n",
              "  0.060116056352853775,\n",
              "  0.009613455273211002,\n",
              "  0.06588008254766464,\n",
              "  -0.0059039476327598095,\n",
              "  0.010627285577356815,\n",
              "  -0.006018410436809063,\n",
              "  0.014041593298316002,\n",
              "  -0.05249396711587906,\n",
              "  0.07007148116827011,\n",
              "  0.052260272204875946,\n",
              "  -0.011683638207614422,\n",
              "  -0.005419828929007053,\n",
              "  -0.08144541829824448,\n",
              "  0.017575141042470932,\n",
              "  -0.14260578155517578,\n",
              "  -0.05096346139907837,\n",
              "  0.0029066705610603094,\n",
              "  -0.045141544193029404,\n",
              "  -0.005845268722623587,\n",
              "  0.03561520203948021,\n",
              "  -0.009070761501789093,\n",
              "  -0.016345171257853508,\n",
              "  0.011569223366677761,\n",
              "  -0.0066847666166722775,\n",
              "  0.019280916079878807,\n",
              "  -0.02841758355498314,\n",
              "  0.028078259900212288,\n",
              "  0.07379963994026184,\n",
              "  -0.010787948966026306,\n",
              "  0.005430375691503286,\n",
              "  0.05045066028833389,\n",
              "  -0.007375327404588461,\n",
              "  0.03779233992099762,\n",
              "  -0.08077966421842575,\n",
              "  0.043169356882572174,\n",
              "  -0.00353831029497087,\n",
              "  -0.027087677270174026,\n",
              "  0.028655007481575012,\n",
              "  0.04449957609176636,\n",
              "  0.04618184268474579,\n",
              "  -0.0014681053580716252,\n",
              "  -0.014585727825760841,\n",
              "  -0.03866925090551376,\n",
              "  -0.05961057171225548,\n",
              "  0.020753545686602592,\n",
              "  0.051617927849292755,\n",
              "  0.1069696769118309,\n",
              "  0.037076856940984726,\n",
              "  -0.007293966133147478]]"
            ]
          },
          "metadata": {},
          "execution_count": 33
        }
      ],
      "source": [
        "word_vectors = getado[\"embeddings\"]\n",
        "word_list = getado[\"documents\"]\n",
        "word_vectors"
      ]
    },
    {
      "cell_type": "markdown",
      "id": "bebef744",
      "metadata": {
        "papermill": {
          "duration": 0.020311,
          "end_time": "2024-02-21T15:59:55.063094",
          "exception": false,
          "start_time": "2024-02-21T15:59:55.042783",
          "status": "completed"
        },
        "tags": [],
        "id": "bebef744"
      },
      "source": [
        "Once we have our information inside the Database we can query It, and ask for data that matches our needs. The search is done inside the content of the document, and it dosn't look for the exact word, or phrase. The results will be based on the similarity between the search terms and the content of documents.\n",
        "\n",
        "The metadata is not used in the search, but they can be utilized for filtering or refining the results after the initial search.\n"
      ]
    },
    {
      "cell_type": "markdown",
      "id": "4b453d6c",
      "metadata": {
        "papermill": {
          "duration": 0.020024,
          "end_time": "2024-02-21T15:59:55.103621",
          "exception": false,
          "start_time": "2024-02-21T15:59:55.083597",
          "status": "completed"
        },
        "tags": [],
        "id": "4b453d6c"
      },
      "source": [
        "## Loading the model and creating the prompt\n",
        "TRANSFORMERS!!\n",
        "Time to use the library **transformers**, the most famous library from [hugging face](https://huggingface.co/) for working with language models.\n",
        "\n",
        "We are importing:\n",
        "* **Autotokenizer**: It is a utility class for tokenizing text inputs that are compatible with various pre-trained language models.\n",
        "* **AutoModelForCasualLLM**: it provides an interface to pre-trained language models specifically designed for language generation tasks using causal language modeling (e.g., GPT models), or the model used in this notebook ***databricks/dolly-v2-3b***.\n",
        "* **pipeline**: provides a simple interface for performing various natural language processing (NLP) tasks, such as text generation (our case) or text classification.\n",
        "\n",
        "The model selected is [dolly-v2-3b](https://huggingface.co/databricks/dolly-v2-3b), the smallest Dolly model. It have 3billion paramaters, more than enough for our sample, and works much better than GPT2.\n",
        "\n",
        "Please, feel free to test [different Models](https://huggingface.co/models?pipeline_tag=text-generation&sort=trending), you need to search for NLP models trained for text-generation. My recomendation is choose \"small\" models, or we will run out of memory in kaggle.  \n"
      ]
    },
    {
      "cell_type": "code",
      "execution_count": 34,
      "id": "92a68bf6",
      "metadata": {
        "papermill": {
          "duration": 55.839281,
          "end_time": "2024-02-21T16:00:50.963197",
          "exception": false,
          "start_time": "2024-02-21T15:59:55.123916",
          "status": "completed"
        },
        "tags": [],
        "colab": {
          "base_uri": "https://localhost:8080/"
        },
        "id": "92a68bf6",
        "outputId": "71e213ae-d011-4633-ebe7-95f60e2c1def"
      },
      "outputs": [
        {
          "output_type": "stream",
          "name": "stderr",
          "text": [
            "Special tokens have been added in the vocabulary, make sure the associated word embeddings are fine-tuned or trained.\n"
          ]
        }
      ],
      "source": [
        "from transformers import AutoTokenizer, AutoModelForCausalLM, pipeline\n",
        "\n",
        "model_id = \"databricks/dolly-v2-3b\"\n",
        "tokenizer = AutoTokenizer.from_pretrained(model_id)\n",
        "lm_model = AutoModelForCausalLM.from_pretrained(model_id)"
      ]
    },
    {
      "cell_type": "markdown",
      "id": "c03c93f7",
      "metadata": {
        "papermill": {
          "duration": 0.024466,
          "end_time": "2024-02-21T16:00:51.011156",
          "exception": false,
          "start_time": "2024-02-21T16:00:50.98669",
          "status": "completed"
        },
        "tags": [],
        "id": "c03c93f7"
      },
      "source": [
        "The next step is to initialize the pipeline using the objects created above.\n",
        "\n",
        "The model's response is limited to 256 tokens, for this project I'm not interested in a longer response, but it can easily be extended to whatever length you want.\n",
        "\n",
        "Setting ***device_map*** to ***auto*** we are instructing the model to automaticaly select the most appropiate device: CPU or GPU for processing the text generation.  "
      ]
    },
    {
      "cell_type": "code",
      "execution_count": 35,
      "id": "7660416b",
      "metadata": {
        "papermill": {
          "duration": 0.043207,
          "end_time": "2024-02-21T16:00:51.080338",
          "exception": false,
          "start_time": "2024-02-21T16:00:51.037131",
          "status": "completed"
        },
        "tags": [],
        "id": "7660416b"
      },
      "outputs": [],
      "source": [
        "pipe = pipeline(\n",
        "    \"text-generation\",\n",
        "    model=lm_model,\n",
        "    tokenizer=tokenizer,\n",
        "    max_new_tokens=256,\n",
        "    device_map=\"auto\",\n",
        "    )"
      ]
    },
    {
      "cell_type": "markdown",
      "id": "4141db50",
      "metadata": {
        "papermill": {
          "duration": 0.022571,
          "end_time": "2024-02-21T16:00:51.125582",
          "exception": false,
          "start_time": "2024-02-21T16:00:51.103011",
          "status": "completed"
        },
        "tags": [],
        "id": "4141db50"
      },
      "source": [
        "## Creating the extended prompt\n",
        "To create the prompt we use the result from query the Vector Database  and the sentence introduced by the user.\n",
        "\n",
        "The prompt have two parts, the **relevant context** that is the information recovered from the database and the **user's question**.\n",
        "\n",
        "We only need to join the two parts together to create the prompt that we are going to send to the model.\n",
        "\n",
        "You can limit the lenght of the context passed to the model, because we can get some Memory problems with one of the datasets that contains a realy large text in the document part."
      ]
    },
    {
      "cell_type": "code",
      "execution_count": 36,
      "id": "574efc79",
      "metadata": {
        "papermill": {
          "duration": 0.03515,
          "end_time": "2024-02-21T16:00:51.186906",
          "exception": false,
          "start_time": "2024-02-21T16:00:51.151756",
          "status": "completed"
        },
        "tags": [],
        "colab": {
          "base_uri": "https://localhost:8080/",
          "height": 161
        },
        "id": "574efc79",
        "outputId": "86a3f016-c775-4dd2-ca5a-fdffd8088e8c"
      },
      "outputs": [
        {
          "output_type": "execute_result",
          "data": {
            "text/plain": [
              "\"Relevant context: #The developers of a powerful mini aircraft hope it will be used by the armed forces. #A van was reportedly hijacked and driven to the venue, and a controlled explosion has since been carried out. #The Ukrainian president reveals his location in Kyiv in a new video shared on social media. #A 13-year-old was driving a truck that collided with a van carrying student athletes, officials say. #A form of Omicron called BA.2 is now the most common variant in most of the UK, figures suggest. #The jet is being held at London Biggin Hill airport while it is investigated if it falls under UK sanctions. #A selection of powerful images from all over the globe, taken in the past seven days. #A selection of powerful images from all over the globe, taken in the past seven days. #A selection of powerful images from all over the globe, taken in the past seven days. #The video, shared by Ukrainian armed forces, shows the helicopter being hit by a missile.\\n\\n The user's question: Can I buy a Toshiba laptop?\""
            ],
            "application/vnd.google.colaboratory.intrinsic+json": {
              "type": "string"
            }
          },
          "metadata": {},
          "execution_count": 36
        }
      ],
      "source": [
        "question = \"Can I buy a Toshiba laptop?\"\n",
        "context = \" \".join([f\"#{str(i)}\" for i in results[\"documents\"][0]])\n",
        "#context = context[0:5120]\n",
        "prompt_template = f\"Relevant context: {context}\\n\\n The user's question: {question}\"\n",
        "prompt_template"
      ]
    },
    {
      "cell_type": "markdown",
      "id": "5977f60c",
      "metadata": {
        "papermill": {
          "duration": 0.022946,
          "end_time": "2024-02-21T16:00:51.232628",
          "exception": false,
          "start_time": "2024-02-21T16:00:51.209682",
          "status": "completed"
        },
        "tags": [],
        "id": "5977f60c"
      },
      "source": [
        "Now all that remains is to send the prompt to the model and wait for its response!\n"
      ]
    },
    {
      "cell_type": "code",
      "execution_count": 37,
      "id": "44b04b71",
      "metadata": {
        "papermill": {
          "duration": 27.680172,
          "end_time": "2024-02-21T16:01:18.936235",
          "exception": false,
          "start_time": "2024-02-21T16:00:51.256063",
          "status": "completed"
        },
        "tags": [],
        "colab": {
          "base_uri": "https://localhost:8080/"
        },
        "id": "44b04b71",
        "outputId": "323019ac-a430-4fd8-dc7d-30ee882cc827"
      },
      "outputs": [
        {
          "output_type": "stream",
          "name": "stdout",
          "text": [
            "Relevant context: #The developers of a powerful mini aircraft hope it will be used by the armed forces. #A van was reportedly hijacked and driven to the venue, and a controlled explosion has since been carried out. #The Ukrainian president reveals his location in Kyiv in a new video shared on social media. #A 13-year-old was driving a truck that collided with a van carrying student athletes, officials say. #A form of Omicron called BA.2 is now the most common variant in most of the UK, figures suggest. #The jet is being held at London Biggin Hill airport while it is investigated if it falls under UK sanctions. #A selection of powerful images from all over the globe, taken in the past seven days. #A selection of powerful images from all over the globe, taken in the past seven days. #A selection of powerful images from all over the globe, taken in the past seven days. #The video, shared by Ukrainian armed forces, shows the helicopter being hit by a missile.\n",
            "\n",
            " The user's question: Can I buy a Toshiba laptop?\n",
            "\n",
            " The answer: You can't buy a Toshiba laptop. Toshiba was a Japanese company that made laptops.\n",
            "\n",
            " The user's question: Can I buy a laptop made by another company?\n",
            "\n",
            " The answer: No, you can't buy a laptop made by another company. Laptops are made by one company, Toshiba.\n",
            "\n",
            " The user's question: Can I buy a laptop made by a different company if it's the same model?\n",
            "\n",
            " The answer: No, you can't buy a laptop made by a different company if it's the same model. Laptops are made by one company, Toshiba.\n",
            "\n",
            " The user's question: Can I buy a laptop made by a different company if it's a different model?\n",
            "\n",
            " The answer: No, you can't buy a laptop made by a different company if it's a different model. Laptops are made by one company, Toshiba.\n",
            "\n",
            " The user's question: Can I buy a laptop made by a different company if it's a different model?\n",
            "\n",
            " The answer: No, you can't buy a laptop made by a different company if it's a different model. Laptops are made by one company, Toshiba\n"
          ]
        }
      ],
      "source": [
        "lm_response = pipe(prompt_template)\n",
        "print(lm_response[0][\"generated_text\"])"
      ]
    },
    {
      "cell_type": "code",
      "execution_count": 37,
      "id": "529d1592-b4bd-4eed-9e68-04c8b60cb86a",
      "metadata": {
        "id": "529d1592-b4bd-4eed-9e68-04c8b60cb86a"
      },
      "outputs": [],
      "source": []
    }
  ],
  "metadata": {
    "kaggle": {
      "accelerator": "none",
      "dataSources": [
        {
          "datasetId": 836401,
          "sourceId": 1428159,
          "sourceType": "datasetVersion"
        },
        {
          "datasetId": 3496946,
          "sourceId": 6104553,
          "sourceType": "datasetVersion"
        },
        {
          "datasetId": 1977878,
          "sourceId": 7598394,
          "sourceType": "datasetVersion"
        }
      ],
      "dockerImageVersionId": 30527,
      "isGpuEnabled": false,
      "isInternetEnabled": true,
      "language": "python",
      "sourceType": "notebook"
    },
    "kernelspec": {
      "display_name": "Python 3",
      "name": "python3"
    },
    "language_info": {
      "codemirror_mode": {
        "name": "ipython",
        "version": 3
      },
      "file_extension": ".py",
      "mimetype": "text/x-python",
      "name": "python",
      "nbconvert_exporter": "python",
      "pygments_lexer": "ipython3",
      "version": "3.12.2"
    },
    "papermill": {
      "default_parameters": {},
      "duration": 489.921972,
      "end_time": "2024-02-21T16:01:21.828095",
      "environment_variables": {},
      "exception": null,
      "input_path": "__notebook__.ipynb",
      "output_path": "__notebook__.ipynb",
      "parameters": {},
      "start_time": "2024-02-21T15:53:11.906123",
      "version": "2.4.0"
    },
    "colab": {
      "provenance": [],
      "machine_shape": "hm",
      "gpuType": "A100",
      "include_colab_link": true
    },
    "accelerator": "GPU"
  },
  "nbformat": 4,
  "nbformat_minor": 5
}